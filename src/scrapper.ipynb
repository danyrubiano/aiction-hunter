{
 "cells": [
  {
   "cell_type": "code",
   "execution_count": null,
   "metadata": {},
   "outputs": [],
   "source": [
    "\"\"\"\n",
    "Scrapper sencillo de pagina de clasificados para obtener remates de vehículos\n",
    "\"\"\"\n",
    "from selenium import webdriver\n",
    "from selenium.webdriver.chrome.service import Service\n",
    "from selenium.webdriver.support.ui import WebDriverWait\n",
    "from selenium.webdriver.support import expected_conditions as EC\n",
    "from selenium.webdriver.common.by import By\n",
    "from selenium.webdriver.chrome.options import Options\n",
    "from webdriver_manager.chrome import ChromeDriverManager\n",
    "import os\n",
    "import pandas as pd\n",
    "import requests\n",
    "from datetime import datetime, date, timedelta\n",
    "\n",
    "os.environ['w2n.lang'] = 'es'\n"
   ]
  },
  {
   "cell_type": "code",
   "execution_count": null,
   "metadata": {},
   "outputs": [],
   "source": [
    "chrome_options = Options()\n",
    "path = os.path.join(os.getcwd(), \"output\")\n",
    "prefs = {\"download.default_directory\": path, \"directory_upgrade\": True}\n",
    "chrome_options.add_experimental_option(\"prefs\", prefs)\n",
    "chrome_options.add_argument('--headless')\n",
    "driver =  webdriver.Chrome(service=Service(ChromeDriverManager().install()), options = chrome_options)"
   ]
  },
  {
   "cell_type": "code",
   "execution_count": null,
   "metadata": {},
   "outputs": [],
   "source": [
    "url = \"https://www.clasificados.cl/Clasificados.aspx?categoria=clasificacion&clasificacion=1612\"\n",
    "driver.get(url)"
   ]
  },
  {
   "cell_type": "code",
   "execution_count": null,
   "metadata": {},
   "outputs": [],
   "source": [
    "publicaciones = []\n",
    "fechas = []\n",
    "pages = len(driver.find_elements(By.XPATH, \"//a[starts-with(@id, 'ContenidoSeccion_rPaginacion_hpagina_')]\"))\n",
    "for i in range(0, pages):\n",
    "    publicaciones += [pub.text for pub in driver.find_elements(By.XPATH,\"//div[starts-with(@class, 'item-titulo')]\")]\n",
    "    fechas += [fecha.text for fecha in driver.find_elements(By.XPATH, \"//div[starts-with(@class, 'item-fecha')]\")]\n",
    "    if i+1 < pages:\n",
    "        wait = WebDriverWait(driver, 10)\n",
    "        print(i+1)\n",
    "        wait.until(EC.element_to_be_clickable((By.XPATH, f\"//*[@id='ContenidoSeccion_rPaginacion_hpagina_{i+1}']\"))).click()"
   ]
  },
  {
   "cell_type": "code",
   "execution_count": null,
   "metadata": {},
   "outputs": [],
   "source": [
    "df = pd.DataFrame({'fecha_publicacion':fechas, 'publicacion':publicaciones})\n",
    "df"
   ]
  },
  {
   "cell_type": "code",
   "execution_count": null,
   "metadata": {},
   "outputs": [],
   "source": [
    "df.to_csv(f'remates_publicados_{date.today()}.csv', index=False)"
   ]
  },
  {
   "cell_type": "code",
   "execution_count": null,
   "metadata": {},
   "outputs": [],
   "source": []
  }
 ],
 "metadata": {
  "kernelspec": {
   "display_name": "base",
   "language": "python",
   "name": "python3"
  },
  "language_info": {
   "codemirror_mode": {
    "name": "ipython",
    "version": 3
   },
   "file_extension": ".py",
   "mimetype": "text/x-python",
   "name": "python",
   "nbconvert_exporter": "python",
   "pygments_lexer": "ipython3",
   "version": "3.10.9"
  },
  "orig_nbformat": 4
 },
 "nbformat": 4,
 "nbformat_minor": 2
}
