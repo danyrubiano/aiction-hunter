{
 "cells": [
  {
   "cell_type": "code",
   "execution_count": null,
   "metadata": {},
   "outputs": [],
   "source": [
    "\"\"\"\n",
    "Transformación de datos obtenidos desde scapper\n",
    "\"\"\"\n",
    "\n",
    "import pandas as pd\n",
    "import numpy as np\n",
    "from datetime import date\n",
    "import re"
   ]
  },
  {
   "cell_type": "code",
   "execution_count": null,
   "metadata": {},
   "outputs": [],
   "source": [
    "data = pd.read_csv(f'remates_publicados_{date.today()}.csv')\n",
    "data['folio'] = data['publicacion'].apply(lambda x: re.findall(\"[C|c][ /_-]?[0-9]{4,5}[ ]?[\\/\\_\\-\\r\\t\\f]?[ ]?[0-9]{4}\", x))\n",
    "data['Juzgado'] = data['publicacion'].apply(lambda x: re.findall(r\"\\b(\\d{1,2})[°\\\\º]?\\s*(?:(?:j|J)uzgado|(?:c|C)ivil|JCS)\\b\", x, re.IGNORECASE))\n",
    "data['placa'] = data['publicacion'].apply(lambda x: re.findall(r\"\\b([A-Z]{4}[ ]?[.-]?[ ]?\\d{2})[-\\d{1}]?\\b\", x))\n",
    "data"
   ]
  },
  {
   "cell_type": "code",
   "execution_count": null,
   "metadata": {},
   "outputs": [],
   "source": [
    "texto = \"La patente de mi auto es PBPX. 90-5\"\n",
    "\n",
    "patron = r\"[?:patente |Patente ]?([A-Z]{4}[ .-]?[ ]?\\d{2}(-\\d)?)\"\n",
    "coincidencias = re.findall(patron, texto)\n",
    "coincidencias"
   ]
  },
  {
   "cell_type": "code",
   "execution_count": null,
   "metadata": {},
   "outputs": [],
   "source": [
    "texto = \"23 juzgado\"\n",
    "\n",
    "patron = r\"\\b(\\d{1,2})[°\\\\º]?\\s*(juzgado|civil)\\b\"\n",
    "coincidencias = re.findall(patron, texto, re.IGNORECASE)\n",
    "\n",
    "if coincidencias:\n",
    "    numero = coincidencias[0][0]\n",
    "    print(\"Se encontró el número: \" + numero)\n",
    "else:\n",
    "    print(\"No se encontraron coincidencias.\")"
   ]
  }
 ],
 "metadata": {
  "kernelspec": {
   "display_name": "base",
   "language": "python",
   "name": "python3"
  },
  "language_info": {
   "codemirror_mode": {
    "name": "ipython",
    "version": 3
   },
   "file_extension": ".py",
   "mimetype": "text/x-python",
   "name": "python",
   "nbconvert_exporter": "python",
   "pygments_lexer": "ipython3",
   "version": "3.10.9"
  },
  "orig_nbformat": 4
 },
 "nbformat": 4,
 "nbformat_minor": 2
}
